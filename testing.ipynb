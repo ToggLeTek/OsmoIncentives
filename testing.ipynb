{
 "cells": [
  {
   "cell_type": "code",
   "execution_count": 444,
   "metadata": {},
   "outputs": [
    {
     "ename": "KeyError",
     "evalue": "'aliases'",
     "output_type": "error",
     "traceback": [
      "\u001b[1;31m---------------------------------------------------------------------------\u001b[0m",
      "\u001b[1;31mKeyError\u001b[0m                                  Traceback (most recent call last)",
      "\u001b[1;32mc:\\Users\\TONADMN\\Documents\\GitHub\\OsmoIncentives\\testing.ipynb Cell 1\u001b[0m in \u001b[0;36m<cell line: 20>\u001b[1;34m()\u001b[0m\n\u001b[0;32m     <a href='vscode-notebook-cell:/c%3A/Users/TONADMN/Documents/GitHub/OsmoIncentives/testing.ipynb#ch0000000?line=16'>17</a>\u001b[0m             test3 \u001b[39m=\u001b[39m \u001b[39mdict\u001b[39m(test2)[\u001b[39m'\u001b[39m\u001b[39maliases\u001b[39m\u001b[39m'\u001b[39m]\n\u001b[0;32m     <a href='vscode-notebook-cell:/c%3A/Users/TONADMN/Documents/GitHub/OsmoIncentives/testing.ipynb#ch0000000?line=17'>18</a>\u001b[0m             new_list\u001b[39m.\u001b[39mappend(test3)\n\u001b[1;32m---> <a href='vscode-notebook-cell:/c%3A/Users/TONADMN/Documents/GitHub/OsmoIncentives/testing.ipynb#ch0000000?line=19'>20</a>\u001b[0m test \u001b[39m=\u001b[39m Asset_Parser()\u001b[39m.\u001b[39;49mparsed_asset_data()\n\u001b[0;32m     <a href='vscode-notebook-cell:/c%3A/Users/TONADMN/Documents/GitHub/OsmoIncentives/testing.ipynb#ch0000000?line=20'>21</a>\u001b[0m \u001b[39mprint\u001b[39m(test)\n",
      "\u001b[1;32mc:\\Users\\TONADMN\\Documents\\GitHub\\OsmoIncentives\\testing.ipynb Cell 1\u001b[0m in \u001b[0;36mAsset_Parser.parsed_asset_data\u001b[1;34m(self)\u001b[0m\n\u001b[0;32m     <a href='vscode-notebook-cell:/c%3A/Users/TONADMN/Documents/GitHub/OsmoIncentives/testing.ipynb#ch0000000?line=14'>15</a>\u001b[0m \u001b[39mfor\u001b[39;00m i \u001b[39min\u001b[39;00m test:\n\u001b[0;32m     <a href='vscode-notebook-cell:/c%3A/Users/TONADMN/Documents/GitHub/OsmoIncentives/testing.ipynb#ch0000000?line=15'>16</a>\u001b[0m     test2 \u001b[39m=\u001b[39m i[\u001b[39m0\u001b[39m]\n\u001b[1;32m---> <a href='vscode-notebook-cell:/c%3A/Users/TONADMN/Documents/GitHub/OsmoIncentives/testing.ipynb#ch0000000?line=16'>17</a>\u001b[0m     test3 \u001b[39m=\u001b[39m \u001b[39mdict\u001b[39;49m(test2)[\u001b[39m'\u001b[39;49m\u001b[39maliases\u001b[39;49m\u001b[39m'\u001b[39;49m]\n\u001b[0;32m     <a href='vscode-notebook-cell:/c%3A/Users/TONADMN/Documents/GitHub/OsmoIncentives/testing.ipynb#ch0000000?line=17'>18</a>\u001b[0m     new_list\u001b[39m.\u001b[39mappend(test3)\n",
      "\u001b[1;31mKeyError\u001b[0m: 'aliases'"
     ]
    }
   ],
   "source": [
    "from util import *\n",
    "import json\n",
    "\n",
    "# Variables\n",
    "ASSETLIST = 'https://raw.githubusercontent.com/ToggLeTek/assetlists/main/osmosis-1/osmosis-frontier.assetlist.json'\n",
    "\n",
    "# Load asset data and use it\n",
    "class Asset_Parser:\n",
    "    \n",
    "    def parsed_asset_data(self):\n",
    "        _assetlist: dict = load_json(ASSETLIST)['assets']\n",
    "        parsed_assets_by_symbol: dict = {asset['symbol']: {'denom': asset['base'], 'exponent': asset['denom_units'][-1]['exponent']} for asset in _assetlist}\n",
    "        new_list = []\n",
    "        test = [list(asset['denom_units']) for asset in _assetlist]\n",
    "        for i in test:\n",
    "            test2 = i[0]\n",
    "            test3 = dict(test2)['aliases']\n",
    "\n",
    "test = Asset_Parser().parsed_asset_data()\n",
    "print(test)\n",
    "        "
   ]
  }
 ],
 "metadata": {
  "language_info": {
   "name": "python"
  },
  "orig_nbformat": 4
 },
 "nbformat": 4,
 "nbformat_minor": 2
}
